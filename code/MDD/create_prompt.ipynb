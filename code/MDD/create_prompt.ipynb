{
 "cells": [
  {
   "cell_type": "code",
   "execution_count": null,
   "id": "f6d064cc",
   "metadata": {},
   "outputs": [],
   "source": [
    "def create_prompt():\n",
    "    \"\"\"\n",
    "    Creates a zero-shot prompt with the provided case text.\n",
    "    \n",
    "    Returns:\n",
    "        str: The formatted prompt.\n",
    "    \"\"\"\n",
    "    enter_case = \"\"\"For context, this happened in 2020 during the pandemic, and I never knew the names of anyone here. \n",
    "Back in 2020, I got sick (not with covid) and I went to my doctor to get tested for strep. It was all going normal at first. \n",
    "I walked in, put on a mask, checked in, and sat down to wait. While I was on my phone, I see a male Karen, looking to be in his 40s or 50s maybe, \n",
    "come through the doors without a mask. The polite nurse tells him, \"Sir please put a mask on,\" but he refuses. Instead, he starts rambling on about how he has breathing problems. \n",
    "Again, the nurse steps in and informs this guy that breathing trouble can be a sign of covid. He then proceeds to start violently screaming at the nurse and cussing her out. \n",
    "While all this is happening, I am sitting a short distance away. Being the only other in the room, the nurse gives me a desperate look, but socially awkward me just stayed where I was. \n",
    "About 5 minutes later, 2 other nurses get this guy kicked out and I never saw him come back in. So, was I the jerk for doing nothing for the poor nurse?\n",
    "\"\"\"\n",
    "    prompt = f'Summarize the case text using this template as accurately as possible while maintaining correct English grammar. Do not add extra information: ' \\\n",
    "             f'The active agent did action to passive agent which led to consequence. The active agent had good/bad/neutral moral intention, ' \\\n",
    "             f'however, the action violated ethical principle which caused ethical issue. Case text is as follows: \"{enter_case}\"'\n",
    "    return prompt"
   ]
  }
 ],
 "metadata": {
  "kernelspec": {
   "display_name": "Python 3 (ipykernel)",
   "language": "python",
   "name": "python3"
  },
  "language_info": {
   "codemirror_mode": {
    "name": "ipython",
    "version": 3
   },
   "file_extension": ".py",
   "mimetype": "text/x-python",
   "name": "python",
   "nbconvert_exporter": "python",
   "pygments_lexer": "ipython3",
   "version": "3.10.4"
  }
 },
 "nbformat": 4,
 "nbformat_minor": 5
}
