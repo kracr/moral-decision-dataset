{
 "cells": [
  {
   "cell_type": "code",
   "execution_count": null,
   "id": "824ceb31",
   "metadata": {},
   "outputs": [],
   "source": [
    "def perform_inference(model, tokenizer, prompt):\n",
    "    \"\"\"\n",
    "    Performs inference using the given model and prompt, setting the attention mask explicitly.\n",
    "    \n",
    "    Args:\n",
    "        model: The pre-trained model to perform inference.\n",
    "        tokenizer: The tokenizer to process the input.\n",
    "        prompt (str): The formatted prompt string.\n",
    "    \n",
    "    Returns:\n",
    "        str: The model's generated answer.\n",
    "        float: Time taken for inference.\n",
    "    \"\"\"\n",
    "    # Tokenize the input and set attention mask\n",
    "    inputs = tokenizer(prompt, return_tensors=\"pt\", padding=True, truncation=True, max_length=512)  # Max length increased\n",
    "    attention_mask = inputs['attention_mask']  # Extract attention mask\n",
    "    \n",
    "    # Measure inference time\n",
    "    start_time = time.time()\n",
    "    output = model.generate(inputs['input_ids'], attention_mask=attention_mask, max_new_tokens=200)  # Generating up to 200 new tokens\n",
    "    end_time = time.time()\n",
    "    \n",
    "    # Decode the generated output\n",
    "    inference_time = end_time - start_time\n",
    "    response = tokenizer.decode(output[0], skip_special_tokens=True)\n",
    "    \n",
    "    return response, inference_time\n",
    "\n"
   ]
  },
  {
   "cell_type": "code",
   "execution_count": null,
   "id": "47fc4416",
   "metadata": {},
   "outputs": [],
   "source": [
    "def run_tests(models):\n",
    "    \"\"\"\n",
    "    Runs the inference tests on the given models and dataset with different prompt styles.\n",
    "    \n",
    "    Args:\n",
    "        models (dict): Dictionary containing the models and tokenizers.\n",
    "    \"\"\"\n",
    "    # Loop through each model\n",
    "    for model_name, (model, tokenizer) in models.items():\n",
    "        print(f\"\\nTesting with {model_name}...\\n\")\n",
    "        \n",
    "        # Create the prompt using the function\n",
    "        prompt = create_prompt()\n",
    "        response, time_taken = perform_inference(model, tokenizer, prompt)\n",
    "        print(f\"Zero-Shot Response: {response}\")\n",
    "        print(f\"Zero-Shot Inference Time: {time_taken:.4f} seconds\\n\")\n",
    "\n",
    "# Run tests\n",
    "run_tests(models)"
   ]
  }
 ],
 "metadata": {
  "kernelspec": {
   "display_name": "Python 3 (ipykernel)",
   "language": "python",
   "name": "python3"
  },
  "language_info": {
   "codemirror_mode": {
    "name": "ipython",
    "version": 3
   },
   "file_extension": ".py",
   "mimetype": "text/x-python",
   "name": "python",
   "nbconvert_exporter": "python",
   "pygments_lexer": "ipython3",
   "version": "3.10.4"
  }
 },
 "nbformat": 4,
 "nbformat_minor": 5
}
