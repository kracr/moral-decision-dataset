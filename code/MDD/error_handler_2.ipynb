{
 "cells": [
  {
   "cell_type": "code",
   "execution_count": null,
   "id": "737a32cd",
   "metadata": {},
   "outputs": [],
   "source": [
    "# import pandas as pd\n",
    "\n",
    "# # Function to remove rows where all columns after the 3rd column are empty\n",
    "# def filter_empty_rows(input_excel, output_excel):\n",
    "#     # Load the Excel sheet into a DataFrame\n",
    "#     df = pd.read_excel(input_excel)\n",
    "    \n",
    "#     # Find rows where all columns after the 3rd column are empty\n",
    "#     filtered_df = df.loc[~df.iloc[:, 3:].isnull().all(axis=1)]\n",
    "    \n",
    "#     # Save the filtered DataFrame to a new Excel file\n",
    "#     filtered_df.to_excel(output_excel, index=False)\n",
    "#     print(f\"Filtered rows saved to {output_excel}\")\n",
    "\n",
    "# # Example usage\n",
    "# input_excel = \"/kaggle/working/filtered_output_UK.xlsx\"  # Replace with your input file name\n",
    "# output_excel = \"clean.xlsx\"  # Replace with your desired output file name\n",
    "\n",
    "# filter_empty_rows(input_excel, output_excel)\n",
    "import pandas as pd\n",
    "import json\n",
    "import re\n",
    "\n",
    "def clean_excel_file(input_excel, output_excel):\n",
    "    # Load the Excel sheet\n",
    "    df = pd.read_excel(input_excel)\n",
    "\n",
    "    # Define a function to detect invalid rows (rows with JSON-like content or incorrect format)\n",
    "    def is_invalid_row(row):\n",
    "        # Check all columns after the 3rd column for JSON-like content\n",
    "        for col in row.index[3:]:\n",
    "            if isinstance(row[col], str) and re.search(r\"\\{.*?\\}|\\[.*?\\]\", row[col]):\n",
    "                return True\n",
    "        return False\n",
    "\n",
    "    # Filter out invalid rows\n",
    "    cleaned_df = df[~df.apply(is_invalid_row, axis=1)]\n",
    "    invalid_rows = df[df.apply(is_invalid_row, axis=1)]\n",
    "\n",
    "    # Save the cleaned DataFrame to a new Excel file\n",
    "    cleaned_df.to_excel(output_excel, index=False)\n",
    "    print(f\"Cleaned data saved to '{output_excel}'.\")\n",
    "\n",
    "    # Save the invalid rows for debugging\n",
    "    if not invalid_rows.empty:\n",
    "        invalid_output = \"invalid_rows.xlsx\"\n",
    "        invalid_rows.to_excel(invalid_output, index=False)\n",
    "        print(f\"Invalid rows saved to '{invalid_output}' for review.\")\n",
    "\n",
    "# Example usage\n",
    "input_excel = \"/kaggle/working/filter-new.xlsx\"  # Replace with your input file path\n",
    "output_excel = \"final_new.xlsx\"  # Replace with your desired output file path\n",
    "\n",
    "clean_excel_file(input_excel, output_excel)"
   ]
  }
 ],
 "metadata": {
  "kernelspec": {
   "display_name": "Python 3 (ipykernel)",
   "language": "python",
   "name": "python3"
  },
  "language_info": {
   "codemirror_mode": {
    "name": "ipython",
    "version": 3
   },
   "file_extension": ".py",
   "mimetype": "text/x-python",
   "name": "python",
   "nbconvert_exporter": "python",
   "pygments_lexer": "ipython3",
   "version": "3.10.4"
  }
 },
 "nbformat": 4,
 "nbformat_minor": 5
}
