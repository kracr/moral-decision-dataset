{
 "cells": [
  {
   "cell_type": "code",
   "execution_count": null,
   "id": "b47f8ea9",
   "metadata": {},
   "outputs": [],
   "source": [
    "import pandas as pd\n",
    "import json\n",
    "\n",
    "def excel_to_json(excel_file, json_file):\n",
    "    # Read the Excel file\n",
    "    df = pd.read_excel(excel_file)\n",
    "    \n",
    "    # Convert DataFrame to a dictionary\n",
    "    data_dict = df.to_dict(orient='records')\n",
    "    \n",
    "    # Write dictionary to a JSON file\n",
    "    with open(json_file, 'w') as jsonf:\n",
    "        json.dump(data_dict, jsonf, indent=4)\n",
    "\n",
    "# Example usage\n",
    "excel_file = '.xlsx'  # Replace with your Excel file name\n",
    "json_file = '.json'   # Output JSON file name\n",
    "excel_to_json(excel_file, json_file)\n",
    "\n",
    "print(f\"Excel file '{excel_file}' has been converted to JSON file '{json_file}'.\")\n"
   ]
  }
 ],
 "metadata": {
  "kernelspec": {
   "display_name": "Python 3 (ipykernel)",
   "language": "python",
   "name": "python3"
  },
  "language_info": {
   "codemirror_mode": {
    "name": "ipython",
    "version": 3
   },
   "file_extension": ".py",
   "mimetype": "text/x-python",
   "name": "python",
   "nbconvert_exporter": "python",
   "pygments_lexer": "ipython3",
   "version": "3.10.4"
  }
 },
 "nbformat": 4,
 "nbformat_minor": 5
}
