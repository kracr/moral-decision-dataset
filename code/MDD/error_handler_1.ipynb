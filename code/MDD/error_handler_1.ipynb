{
 "cells": [
  {
   "cell_type": "code",
   "execution_count": null,
   "id": "e72f458a",
   "metadata": {},
   "outputs": [],
   "source": [
    "import json\n",
    "import pandas as pd\n",
    "\n",
    "# Load JSON file\n",
    "input_file = \"/kaggle/working/summary_feat_new_reddit.json\"\n",
    "output_file = \"filter-new.xlsx\"\n",
    "\n",
    "# Load JSON data\n",
    "with open(input_file, \"r\") as f:\n",
    "    data = json.load(f)\n",
    "\n",
    "# Filter out entries with \"Error\" in any key\n",
    "filtered_data = [entry for entry in data if \"Error\" not in entry]\n",
    "\n",
    "# Convert to DataFrame\n",
    "df = pd.DataFrame(filtered_data)\n",
    "\n",
    "# Save to Excel\n",
    "df.to_excel(output_file, index=False)\n",
    "\n",
    "print(f\"Filtered data saved to {output_file}\")\n"
   ]
  }
 ],
 "metadata": {
  "kernelspec": {
   "display_name": "Python 3 (ipykernel)",
   "language": "python",
   "name": "python3"
  },
  "language_info": {
   "codemirror_mode": {
    "name": "ipython",
    "version": 3
   },
   "file_extension": ".py",
   "mimetype": "text/x-python",
   "name": "python",
   "nbconvert_exporter": "python",
   "pygments_lexer": "ipython3",
   "version": "3.10.4"
  }
 },
 "nbformat": 4,
 "nbformat_minor": 5
}
